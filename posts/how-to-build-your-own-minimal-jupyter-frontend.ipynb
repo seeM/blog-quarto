{
 "cells": [
  {
   "cell_type": "raw",
   "id": "e6586f28",
   "metadata": {},
   "source": [
    "---\n",
    "title: \"How to build your own minimal Jupyter frontend\"\n",
    "description: A step-by-step guide to interacting with Jupyter Server and creating your own Jupyter frontend.\n",
    "date: 2023-01-12\n",
    "categories: [tutorial]\n",
    "aliases: [/posts/jupyter-server-a-whirlwind-tour.html]\n",
    "---"
   ]
  },
  {
   "cell_type": "markdown",
   "id": "d6b86c4a",
   "metadata": {},
   "source": [
    "![Photo by <a href=\"https://unsplash.com/@planetvolumes?utm_source=unsplash&utm_medium=referral&utm_content=creditCopyText\">Planet Volumes</a> on <a href=\"https://unsplash.com/photos/awYEQyYdHVE?utm_source=unsplash&utm_medium=referral&utm_content=creditCopyText\">Unsplash</a>](images/jupiter.png){.preview-image .rounded}"
   ]
  },
  {
   "cell_type": "markdown",
   "id": "1b93a17d",
   "metadata": {},
   "source": [
    "This blog post (and the [source notebook](https://github.com/seeM/blog/blob/main/posts/jupyter-server-a-whirlwind-tour.ipynb)) is an executable playground for understanding how to communicate with Jupyter Servers. You can think of it as a barebones Jupyter frontend, since we'll be implementing the full lifecycle including creating a new notebook, writing and executing code cells, and shutting down the server."
   ]
  },
  {
   "cell_type": "markdown",
   "id": "fca4c8df",
   "metadata": {},
   "source": [
    "I'm building my own native macOS Jupyter frontend and writing about my experience and learnings along the way. In order to do that, I need to be familiar with how Jupyter Servers works."
   ]
  },
  {
   "cell_type": "markdown",
   "id": "65d32e8f",
   "metadata": {},
   "source": [
    "My approach to learning this was a combination of using Chrome dev tools to inspect network requests in Jupyter Lab, and reading the wonderful Jupyter Server docs (particularly the [REST API reference](https://jupyter-server.readthedocs.io/en/latest/developers/rest-api.html)). I'll include links to the relevant docs in each section below."
   ]
  },
  {
   "cell_type": "markdown",
   "id": "e7453993",
   "metadata": {},
   "source": [
    "Let's get started!"
   ]
  },
  {
   "cell_type": "markdown",
   "id": "c8ac361e",
   "metadata": {},
   "source": [
    "## Starting the server"
   ]
  },
  {
   "cell_type": "markdown",
   "id": "608bc387",
   "metadata": {},
   "source": [
    "To start, ensure that you're running a Jupyter Server in another process (e.g. in a terminal) by entering the following command:\n",
    "\n",
    "```sh\n",
    "jupyter server\n",
    "```\n",
    "\n",
    "Once the server is running, update the `url_with_token` variable below to match what's displayed in the terminal output. For example, it should output something like this:\n",
    "\n",
    "```\n",
    "[C 2023-01-07 12:03:57.482 ServerApp]\n",
    "\n",
    "    To access the server, open this file in a browser:\n",
    "        file:///Users/seem/Library/Jupyter/runtime/jpserver-80287-open.html\n",
    "    Or copy and paste one of these URLs:\n",
    "        http://localhost:8889/?token=72b22f0cee26baaa6aed492b6fed5a010d57bd6c0e1adcce\n",
    "     or http://127.0.0.1:8889/?token=72b22f0cee26baaa6aed492b6fed5a010d57bd6c0e1adcce\n",
    "```"
   ]
  },
  {
   "cell_type": "code",
   "execution_count": 1,
   "id": "0d703673",
   "metadata": {},
   "outputs": [],
   "source": [
    "# NB: Update this based on your terminal output\n",
    "url_with_token = 'http://localhost:8889/?token=e78ceb3114cb10d50f64485b18e3052c66861616166e0bab'"
   ]
  },
  {
   "cell_type": "markdown",
   "id": "88355f85",
   "metadata": {},
   "source": [
    "## Authenticating"
   ]
  },
  {
   "cell_type": "markdown",
   "id": "ceaf92bd",
   "metadata": {},
   "source": [
    "First, we'll do a quick check that there is a server at the defined `url`. We need to get the URL without the `token` query parameter:"
   ]
  },
  {
   "cell_type": "code",
   "execution_count": 2,
   "id": "ffc380eb",
   "metadata": {},
   "outputs": [],
   "source": [
    "from urllib.parse import urlparse"
   ]
  },
  {
   "cell_type": "code",
   "execution_count": 3,
   "id": "206b48a1",
   "metadata": {},
   "outputs": [
    {
     "data": {
      "text/plain": [
       "'http://localhost:8889/'"
      ]
     },
     "execution_count": 3,
     "metadata": {},
     "output_type": "execute_result"
    }
   ],
   "source": [
    "url = urlparse(url_with_token)._replace(query=None).geturl()\n",
    "url"
   ]
  },
  {
   "cell_type": "markdown",
   "id": "18b661a1",
   "metadata": {},
   "source": [
    "Now we can make the request:"
   ]
  },
  {
   "cell_type": "code",
   "execution_count": 4,
   "id": "60a5019c",
   "metadata": {},
   "outputs": [],
   "source": [
    "import requests"
   ]
  },
  {
   "cell_type": "code",
   "execution_count": 5,
   "id": "49d240b4",
   "metadata": {},
   "outputs": [
    {
     "data": {
      "text/plain": [
       "<Response [200]>"
      ]
     },
     "execution_count": 5,
     "metadata": {},
     "output_type": "execute_result"
    }
   ],
   "source": [
    "requests.get(url)"
   ]
  },
  {
   "cell_type": "markdown",
   "id": "5be8e998",
   "metadata": {},
   "source": [
    "A 200 response means that the server processed the request successfully."
   ]
  },
  {
   "cell_type": "markdown",
   "id": "0a172704",
   "metadata": {},
   "source": [
    "Next we need to authenticate. What happens if we try to make a request to an endpoint that requires authentication, for example `GET /api/contents`?"
   ]
  },
  {
   "cell_type": "code",
   "execution_count": 6,
   "id": "d363c9dd",
   "metadata": {},
   "outputs": [
    {
     "data": {
      "text/plain": [
       "<Response [403]>"
      ]
     },
     "execution_count": 6,
     "metadata": {},
     "output_type": "execute_result"
    }
   ],
   "source": [
    "requests.get(url + 'api/contents')"
   ]
  },
  {
   "cell_type": "markdown",
   "id": "f256a941",
   "metadata": {},
   "source": [
    "It fails with `403 Forbidden`."
   ]
  },
  {
   "cell_type": "markdown",
   "id": "47f59fb6",
   "metadata": {},
   "source": [
    "If we include our token in the `Authorization` header:"
   ]
  },
  {
   "cell_type": "code",
   "execution_count": 7,
   "id": "47341bcd",
   "metadata": {},
   "outputs": [
    {
     "data": {
      "text/plain": [
       "<Response [200]>"
      ]
     },
     "execution_count": 7,
     "metadata": {},
     "output_type": "execute_result"
    }
   ],
   "source": [
    "token = urlparse(url_with_token).query.split('=')[-1]\n",
    "headers = {'Authorization': f'token {token}'}\n",
    "requests.get(url + 'api/contents', headers=headers)"
   ]
  },
  {
   "cell_type": "markdown",
   "id": "1bfe7b49",
   "metadata": {},
   "source": [
    "... it works!"
   ]
  },
  {
   "cell_type": "markdown",
   "id": "95e71bae",
   "metadata": {},
   "source": [
    "Let's create a `requests.Session` so we don't have to keep specifying the header:"
   ]
  },
  {
   "cell_type": "code",
   "execution_count": 8,
   "id": "c800292c",
   "metadata": {},
   "outputs": [],
   "source": [
    "session = requests.Session()\n",
    "session.headers.update(headers)"
   ]
  },
  {
   "cell_type": "markdown",
   "id": "c7a1f951",
   "metadata": {},
   "source": [
    "## Managing files"
   ]
  },
  {
   "cell_type": "markdown",
   "id": "a6e656bf",
   "metadata": {},
   "source": [
    "Jupyter Server lets you manage files via the [Contents API](https://jupyter-server.readthedocs.io/en/latest/developers/contents.html). Browser frontends access this via the `/api/contents` [REST API](https://jupyter-server.readthedocs.io/en/latest/developers/rest-api.html)."
   ]
  },
  {
   "cell_type": "markdown",
   "id": "c121f560",
   "metadata": {},
   "source": [
    "Let's use the Contents API to create a file, rename it, and write some contents to it."
   ]
  },
  {
   "cell_type": "markdown",
   "id": "c183c7cb",
   "metadata": {},
   "source": [
    "### List the contents of a directory"
   ]
  },
  {
   "cell_type": "code",
   "execution_count": 9,
   "id": "85b39fc6",
   "metadata": {},
   "outputs": [
    {
     "name": "stdout",
     "output_type": "stream",
     "text": [
      "rm: ../temp/*: No such file or directory\r\n"
     ]
    }
   ],
   "source": [
    "#| echo: false\n",
    "#| output: false\n",
    "!rm ../temp/*"
   ]
  },
  {
   "cell_type": "markdown",
   "id": "168d322f",
   "metadata": {},
   "source": [
    "`GET /api/contents/<path>` returns the contents of the file or directory at `path`. You can think of it as `ls` for Jupyter Server:"
   ]
  },
  {
   "cell_type": "code",
   "execution_count": 10,
   "id": "372abec1",
   "metadata": {},
   "outputs": [
    {
     "data": {
      "text/plain": [
       "{'name': '',\n",
       " 'path': '',\n",
       " 'last_modified': '2023-01-19T05:58:38.693411Z',\n",
       " 'created': '2023-01-19T05:58:38.693411Z',\n",
       " 'content': [],\n",
       " 'format': 'json',\n",
       " 'mimetype': None,\n",
       " 'size': None,\n",
       " 'writable': True,\n",
       " 'type': 'directory'}"
      ]
     },
     "execution_count": 10,
     "metadata": {},
     "output_type": "execute_result"
    }
   ],
   "source": [
    "session.get(url + 'api/contents').json()"
   ]
  },
  {
   "cell_type": "markdown",
   "id": "31c941f7",
   "metadata": {},
   "source": [
    "Since the directory is currently empty, `content` is an empty list."
   ]
  },
  {
   "cell_type": "markdown",
   "id": "0f5da646",
   "metadata": {},
   "source": [
    "### Create an empty notebook"
   ]
  },
  {
   "cell_type": "markdown",
   "id": "44cb092a",
   "metadata": {},
   "source": [
    "`POST /api/contents/<path>` creates an empty file in the directory at `path`. You can specify the `type` of the file in the request body:"
   ]
  },
  {
   "cell_type": "code",
   "execution_count": 11,
   "id": "48a05bd9",
   "metadata": {},
   "outputs": [
    {
     "data": {
      "text/plain": [
       "<Response [201]>"
      ]
     },
     "execution_count": 11,
     "metadata": {},
     "output_type": "execute_result"
    }
   ],
   "source": [
    "session.post(url + 'api/contents', json={'type': 'notebook'})"
   ]
  },
  {
   "cell_type": "markdown",
   "id": "c940d671",
   "metadata": {},
   "source": [
    "The 201 status code means that the request succeeded and a resource was created."
   ]
  },
  {
   "cell_type": "markdown",
   "id": "e18d468c",
   "metadata": {},
   "source": [
    "Let's confirm that the file exists with `GET /api/contents`:"
   ]
  },
  {
   "cell_type": "code",
   "execution_count": 12,
   "id": "64d4f91c",
   "metadata": {},
   "outputs": [
    {
     "data": {
      "text/plain": [
       "{'name': '',\n",
       " 'path': '',\n",
       " 'last_modified': '2023-01-19T06:01:01.089699Z',\n",
       " 'created': '2023-01-19T06:01:01.089699Z',\n",
       " 'content': [{'name': 'Untitled.ipynb',\n",
       "   'path': 'Untitled.ipynb',\n",
       "   'last_modified': '2023-01-19T06:01:01.090600Z',\n",
       "   'created': '2023-01-19T06:01:01.090600Z',\n",
       "   'content': None,\n",
       "   'format': None,\n",
       "   'mimetype': None,\n",
       "   'size': 72,\n",
       "   'writable': True,\n",
       "   'type': 'notebook'}],\n",
       " 'format': 'json',\n",
       " 'mimetype': None,\n",
       " 'size': None,\n",
       " 'writable': True,\n",
       " 'type': 'directory'}"
      ]
     },
     "execution_count": 12,
     "metadata": {},
     "output_type": "execute_result"
    }
   ],
   "source": [
    "session.get(url + 'api/contents').json()"
   ]
  },
  {
   "cell_type": "markdown",
   "id": "c1a4ee69",
   "metadata": {},
   "source": [
    "The response is a nested dict. The root dict refers to the root directory as before, however, `content` now contains the newly created notebook named `Untitled.ipynb`."
   ]
  },
  {
   "cell_type": "markdown",
   "id": "1e02eb60",
   "metadata": {},
   "source": [
    "We can get the contents of this file using the same method but referring to the file's path i.e. `GET /api/contents/<path>`:"
   ]
  },
  {
   "cell_type": "code",
   "execution_count": 13,
   "id": "ade22939",
   "metadata": {},
   "outputs": [
    {
     "data": {
      "text/plain": [
       "{'name': 'Untitled.ipynb',\n",
       " 'path': 'Untitled.ipynb',\n",
       " 'last_modified': '2023-01-19T06:01:01.090600Z',\n",
       " 'created': '2023-01-19T06:01:01.090600Z',\n",
       " 'content': {'cells': [], 'metadata': {}, 'nbformat': 4, 'nbformat_minor': 5},\n",
       " 'format': 'json',\n",
       " 'mimetype': None,\n",
       " 'size': 72,\n",
       " 'writable': True,\n",
       " 'type': 'notebook'}"
      ]
     },
     "execution_count": 13,
     "metadata": {},
     "output_type": "execute_result"
    }
   ],
   "source": [
    "data = session.get(url + 'api/contents/Untitled.ipynb').json()\n",
    "data"
   ]
  },
  {
   "cell_type": "markdown",
   "id": "31a54cb7",
   "metadata": {},
   "source": [
    "We're probably most interested in `content`, which contains the JSON content of the notebook:"
   ]
  },
  {
   "cell_type": "code",
   "execution_count": 14,
   "id": "04591521",
   "metadata": {},
   "outputs": [
    {
     "data": {
      "text/plain": [
       "{'cells': [], 'metadata': {}, 'nbformat': 4, 'nbformat_minor': 5}"
      ]
     },
     "execution_count": 14,
     "metadata": {},
     "output_type": "execute_result"
    }
   ],
   "source": [
    "data['content']"
   ]
  },
  {
   "cell_type": "markdown",
   "id": "16547194",
   "metadata": {},
   "source": [
    "For now, the notebook only has some metadata, and `cells` is empty."
   ]
  },
  {
   "cell_type": "markdown",
   "id": "522f58a1",
   "metadata": {},
   "source": [
    "### Rename a notebook"
   ]
  },
  {
   "cell_type": "markdown",
   "id": "b751c11c",
   "metadata": {},
   "source": [
    "Our newly created file is still named `Untitled.ipynb`. Let's rename it to `sum.ipynb` with `PATCH /api/contents/<path>`:"
   ]
  },
  {
   "cell_type": "code",
   "execution_count": 15,
   "id": "4d7a78d2",
   "metadata": {},
   "outputs": [
    {
     "data": {
      "text/plain": [
       "{'name': 'sum.ipynb',\n",
       " 'path': 'sum.ipynb',\n",
       " 'last_modified': '2023-01-19T06:01:01.090600Z',\n",
       " 'created': '2023-01-19T06:01:01.210202Z',\n",
       " 'content': None,\n",
       " 'format': None,\n",
       " 'mimetype': None,\n",
       " 'size': 72,\n",
       " 'writable': True,\n",
       " 'type': 'notebook'}"
      ]
     },
     "execution_count": 15,
     "metadata": {},
     "output_type": "execute_result"
    }
   ],
   "source": [
    "session.patch(url + 'api/contents/Untitled.ipynb', json={'path': 'sum.ipynb'}).json()"
   ]
  },
  {
   "cell_type": "markdown",
   "id": "5136c604",
   "metadata": {},
   "source": [
    "Confirm that it's been renamed. `Untitled.ipynb` no longer exists:"
   ]
  },
  {
   "cell_type": "code",
   "execution_count": 16,
   "id": "a7bd2873",
   "metadata": {},
   "outputs": [
    {
     "data": {
      "text/plain": [
       "{'message': 'No such file or directory: Untitled.ipynb', 'reason': None}"
      ]
     },
     "execution_count": 16,
     "metadata": {},
     "output_type": "execute_result"
    }
   ],
   "source": [
    "session.get(url + 'api/contents/Untitled.ipynb').json()"
   ]
  },
  {
   "cell_type": "markdown",
   "id": "a5183778",
   "metadata": {},
   "source": [
    "... but `sum.ipynb` does:"
   ]
  },
  {
   "cell_type": "code",
   "execution_count": 17,
   "id": "8dd1d341",
   "metadata": {},
   "outputs": [
    {
     "data": {
      "text/plain": [
       "{'name': 'sum.ipynb',\n",
       " 'path': 'sum.ipynb',\n",
       " 'last_modified': '2023-01-19T06:01:01.090600Z',\n",
       " 'created': '2023-01-19T06:01:01.210202Z',\n",
       " 'content': {'cells': [], 'metadata': {}, 'nbformat': 4, 'nbformat_minor': 5},\n",
       " 'format': 'json',\n",
       " 'mimetype': None,\n",
       " 'size': 72,\n",
       " 'writable': True,\n",
       " 'type': 'notebook'}"
      ]
     },
     "execution_count": 17,
     "metadata": {},
     "output_type": "execute_result"
    }
   ],
   "source": [
    "session.get(url + 'api/contents/sum.ipynb').json()"
   ]
  },
  {
   "cell_type": "markdown",
   "id": "03facbb4",
   "metadata": {},
   "source": [
    "::: {.callout-note}\n",
    "You can also create a file with a specified name using `PUT /api/contents/<path>`, instead of letting the server find a unique named prefixed with `Untitled`.\n",
    ":::"
   ]
  },
  {
   "cell_type": "markdown",
   "id": "04b8dba8",
   "metadata": {},
   "source": [
    "### Update a notebook's contents"
   ]
  },
  {
   "cell_type": "markdown",
   "id": "45786dea",
   "metadata": {},
   "source": [
    "Create a cell and append it to existing contents:"
   ]
  },
  {
   "cell_type": "code",
   "execution_count": 18,
   "id": "b038cde2",
   "metadata": {},
   "outputs": [],
   "source": [
    "cell = {\n",
    "    'cell_type': 'code',\n",
    "    'id': '0',\n",
    "    'metadata': {},\n",
    "    'source': [\n",
    "        '1 + 1\\n',\n",
    "    ],\n",
    "    'outputs': [],\n",
    "    'execution_count': 0,\n",
    "}\n",
    "data = session.get(url + 'api/contents/sum.ipynb').json()\n",
    "data['content']['cells'].append(cell)"
   ]
  },
  {
   "cell_type": "markdown",
   "id": "0c903314",
   "metadata": {},
   "source": [
    "Update the notebook's contents using `PUT /api/contents/<path>`:"
   ]
  },
  {
   "cell_type": "code",
   "execution_count": 19,
   "id": "49a22866",
   "metadata": {},
   "outputs": [
    {
     "data": {
      "text/plain": [
       "<Response [200]>"
      ]
     },
     "execution_count": 19,
     "metadata": {},
     "output_type": "execute_result"
    }
   ],
   "source": [
    "session.put(url + 'api/contents/sum.ipynb', json={'content': data['content'], 'type': 'notebook'})"
   ]
  },
  {
   "cell_type": "markdown",
   "id": "0c74ad78",
   "metadata": {},
   "source": [
    "Confirm that the notebook's been updated. Note that `last_modified` and `content` have both updated:"
   ]
  },
  {
   "cell_type": "code",
   "execution_count": 20,
   "id": "0d9911bc",
   "metadata": {},
   "outputs": [
    {
     "data": {
      "text/plain": [
       "{'name': 'sum.ipynb',\n",
       " 'path': 'sum.ipynb',\n",
       " 'last_modified': '2023-01-19T06:01:01.348274Z',\n",
       " 'created': '2023-01-19T06:01:01.348274Z',\n",
       " 'content': {'cells': [{'cell_type': 'code',\n",
       "    'execution_count': 0,\n",
       "    'id': '0',\n",
       "    'metadata': {'trusted': True},\n",
       "    'outputs': [],\n",
       "    'source': '1 + 1\\n'}],\n",
       "  'metadata': {},\n",
       "  'nbformat': 4,\n",
       "  'nbformat_minor': 5},\n",
       " 'format': 'json',\n",
       " 'mimetype': None,\n",
       " 'size': 216,\n",
       " 'writable': True,\n",
       " 'type': 'notebook'}"
      ]
     },
     "execution_count": 20,
     "metadata": {},
     "output_type": "execute_result"
    }
   ],
   "source": [
    "session.get(url + 'api/contents/sum.ipynb').json()"
   ]
  },
  {
   "cell_type": "markdown",
   "id": "ab1be0ce",
   "metadata": {},
   "source": [
    "## Executing code"
   ]
  },
  {
   "cell_type": "markdown",
   "id": "68105d58",
   "metadata": {},
   "source": [
    "Most of the functionality available inside a Jupyter Notebook in your browser is achieved by communicating with the server via websockets. This includes executing code as well as code completion."
   ]
  },
  {
   "cell_type": "markdown",
   "id": "1034b13c",
   "metadata": {},
   "source": [
    "Let's execute a very simple bit of code on the server."
   ]
  },
  {
   "cell_type": "markdown",
   "id": "fc3ecf43",
   "metadata": {},
   "source": [
    "### Start a session"
   ]
  },
  {
   "cell_type": "markdown",
   "id": "563db49e",
   "metadata": {},
   "source": [
    "List open sessions with `GET /api/sessions`:"
   ]
  },
  {
   "cell_type": "code",
   "execution_count": 21,
   "id": "738af04b",
   "metadata": {},
   "outputs": [
    {
     "data": {
      "text/plain": [
       "[]"
      ]
     },
     "execution_count": 21,
     "metadata": {},
     "output_type": "execute_result"
    }
   ],
   "source": [
    "session.get(url + 'api/sessions').json()"
   ]
  },
  {
   "cell_type": "markdown",
   "id": "f62785e6",
   "metadata": {},
   "source": [
    "First we need to choose a kernel specification. Here are the available options on my computer -- yours will likely differ:"
   ]
  },
  {
   "cell_type": "code",
   "execution_count": 22,
   "id": "857b450d",
   "metadata": {},
   "outputs": [
    {
     "data": {
      "text/plain": [
       "{'default': 'python3',\n",
       " 'kernelspecs': {'dyalog-kernel': {'name': 'dyalog-kernel',\n",
       "   'spec': {'argv': ['python3',\n",
       "     '-m',\n",
       "     'dyalog_kernel',\n",
       "     '-f',\n",
       "     '{connection_file}'],\n",
       "    'env': {},\n",
       "    'display_name': 'Dyalog APL',\n",
       "    'language': 'apl',\n",
       "    'interrupt_mode': 'signal',\n",
       "    'metadata': {}},\n",
       "   'resources': {'kernel.js': '/kernelspecs/dyalog-kernel/kernel.js'}},\n",
       "  'python3': {'name': 'python3',\n",
       "   'spec': {'argv': ['python',\n",
       "     '-m',\n",
       "     'ipykernel_launcher',\n",
       "     '-f',\n",
       "     '{connection_file}'],\n",
       "    'env': {},\n",
       "    'display_name': 'Python 3 (ipykernel)',\n",
       "    'language': 'python',\n",
       "    'interrupt_mode': 'signal',\n",
       "    'metadata': {'debugger': True}},\n",
       "   'resources': {'logo-64x64': '/kernelspecs/python3/logo-64x64.png',\n",
       "    'logo-32x32': '/kernelspecs/python3/logo-32x32.png',\n",
       "    'logo-svg': '/kernelspecs/python3/logo-svg.svg'}}}}"
      ]
     },
     "execution_count": 22,
     "metadata": {},
     "output_type": "execute_result"
    }
   ],
   "source": [
    "session.get(url + 'api/kernelspecs').json()"
   ]
  },
  {
   "cell_type": "markdown",
   "id": "d7649c92",
   "metadata": {},
   "source": [
    "Create a new session with `POST /api/sessions` with the `python3` kernelspec:"
   ]
  },
  {
   "cell_type": "code",
   "execution_count": 23,
   "id": "87ddef62",
   "metadata": {},
   "outputs": [
    {
     "data": {
      "text/plain": [
       "{'id': '5730d780-fa1f-446e-b8ad-f3e66be9d063',\n",
       " 'path': 'sum.ipynb',\n",
       " 'name': 'sum.ipynb',\n",
       " 'type': 'notebook',\n",
       " 'kernel': {'id': '760db402-af7f-4559-aa39-5518d2107b14',\n",
       "  'name': 'python3',\n",
       "  'last_activity': '2023-01-19T06:01:01.734770Z',\n",
       "  'execution_state': 'starting',\n",
       "  'connections': 0},\n",
       " 'notebook': {'path': 'sum.ipynb', 'name': 'sum.ipynb'}}"
      ]
     },
     "execution_count": 23,
     "metadata": {},
     "output_type": "execute_result"
    }
   ],
   "source": [
    "data = session.post(url + 'api/sessions', json={'kernel': {'name': 'python3'}, 'name': 'sum.ipynb', 'path': 'sum.ipynb', 'type': 'notebook'}).json()\n",
    "data"
   ]
  },
  {
   "cell_type": "markdown",
   "id": "30563e27",
   "metadata": {},
   "source": [
    "Now that a session exists, we can connect to a websocket. We'll need the `kernel_id` and `session_id` to do that, so let's store them for the next step:"
   ]
  },
  {
   "cell_type": "code",
   "execution_count": 24,
   "id": "7cf01323",
   "metadata": {},
   "outputs": [],
   "source": [
    "kernel_id = data['kernel']['id']\n",
    "session_id = data['id']"
   ]
  },
  {
   "cell_type": "markdown",
   "id": "788315bb",
   "metadata": {},
   "source": [
    "### Communicate over WebSockets"
   ]
  },
  {
   "cell_type": "markdown",
   "id": "cdf3b09e",
   "metadata": {},
   "source": [
    "First, let's craft a message to request an execution -- you can try changing the value of the `code` variable below to execute something else:"
   ]
  },
  {
   "cell_type": "code",
   "execution_count": 25,
   "id": "52ef9b84",
   "metadata": {},
   "outputs": [],
   "source": [
    "import uuid\n",
    "\n",
    "code = '1 + 1'\n",
    "code_msg_id = str(uuid.uuid1())\n",
    "code_msg = {'channel': 'shell',\n",
    "            'content': {'silent': False, 'code': code},\n",
    "            'header': {'msg_id': code_msg_id, 'msg_type':'execute_request'},\n",
    "            'metadata': {},\n",
    "            'parent_header':{}}"
   ]
  },
  {
   "cell_type": "markdown",
   "id": "3182035e",
   "metadata": {},
   "source": [
    "Now we can send the message to the server and receive all responses.\n",
    "\n",
    "We'll use the [websocket-client](https://websocket-client.readthedocs.io/) library. You might also want to consider the [websockets](https://websockets.readthedocs.io/en/stable/) library which is asynchronous."
   ]
  },
  {
   "cell_type": "code",
   "execution_count": 26,
   "id": "6e9954fc",
   "metadata": {},
   "outputs": [
    {
     "name": "stdout",
     "output_type": "stream",
     "text": [
      "Receiving initial messages\n",
      "\n",
      "  type: status           content: {'execution_state': 'busy'}\n",
      "  type: status           content: {'execution_state': 'idle'}\n",
      "  type: status           content: {'execution_state': 'idle'}\n",
      "\n",
      "Sending execute_request\n",
      "\n",
      "Receiving execute_reply\n",
      "\n",
      "  type: status           content: {'execution_state': 'busy'}\n",
      "  type: execute_input    content: {'code': '1 + 1', 'execution_count': 1}\n",
      "  type: execute_result   content: {'data': {'text/plain': '2'}, 'metadata': {}, 'execution_count': 1}\n",
      "  type: status           content: {'execution_state': 'idle'}\n",
      "  type: execute_reply    content: {'status': 'ok', 'execution_count': 1, 'user_expressions': {}, 'payload': []}\n"
     ]
    }
   ],
   "source": [
    "import json\n",
    "from contextlib import closing\n",
    "from websocket import create_connection, WebSocketTimeoutException\n",
    "\n",
    "def recv_all(conn):\n",
    "    while True:\n",
    "        try: msg = json.loads(conn.recv())\n",
    "        except WebSocketTimeoutException: break\n",
    "        print(f\"  type: {msg['msg_type']:16} content: {msg['content']}\")\n",
    "\n",
    "ws_base_url = urlparse(url)._replace(scheme='ws').geturl()\n",
    "ws_url = ws_base_url + f'api/kernels/{kernel_id}/channels?session_id={session_id}'\n",
    "\n",
    "with closing(create_connection(ws_url, header=headers, timeout=1)) as conn:\n",
    "    print('Receiving initial messages\\n')\n",
    "    recv_all(conn)\n",
    "    print('\\nSending execute_request\\n')\n",
    "    conn.send(json.dumps(code_msg))\n",
    "    print('Receiving execute_reply\\n')\n",
    "    recv_all(conn)"
   ]
  },
  {
   "cell_type": "markdown",
   "id": "77170b5a",
   "metadata": {},
   "source": [
    "Yay! We successfully executed code on the server via websockets."
   ]
  },
  {
   "cell_type": "markdown",
   "id": "9b0d23d4",
   "metadata": {},
   "source": [
    "You can learn more about Jupyter's messaging specification in the [Jupyter Client docs](https://jupyter-client.readthedocs.io/en/stable/messaging.html#messaging-in-jupyter)."
   ]
  },
  {
   "cell_type": "markdown",
   "id": "06e20c42",
   "metadata": {},
   "source": [
    "## Cleanup"
   ]
  },
  {
   "cell_type": "markdown",
   "id": "e4eadb0f",
   "metadata": {},
   "source": [
    "It's always good practice to cleanup after ourselves, particularly if we share the server with other users."
   ]
  },
  {
   "cell_type": "markdown",
   "id": "3186ecec",
   "metadata": {},
   "source": [
    "Let's close our session and shutdown the server (although we probably wouldn't shut it down if we shared it with others!)."
   ]
  },
  {
   "cell_type": "markdown",
   "id": "6ab46ee5",
   "metadata": {},
   "source": [
    "### Close the session"
   ]
  },
  {
   "cell_type": "markdown",
   "id": "a8c2616d",
   "metadata": {},
   "source": [
    "Since we're done with the session, we can close it via `DELETE /api/sessions/<session_id>`:"
   ]
  },
  {
   "cell_type": "code",
   "execution_count": 27,
   "id": "8993bbcf",
   "metadata": {},
   "outputs": [
    {
     "data": {
      "text/plain": [
       "<Response [204]>"
      ]
     },
     "execution_count": 27,
     "metadata": {},
     "output_type": "execute_result"
    }
   ],
   "source": [
    "session.delete(url + f'api/sessions/{session_id}')"
   ]
  },
  {
   "cell_type": "markdown",
   "id": "8c497d1c",
   "metadata": {},
   "source": [
    "### Shutdown the server"
   ]
  },
  {
   "cell_type": "markdown",
   "id": "2aa24246",
   "metadata": {},
   "source": [
    "Finally, shutdown the server via `POST /api/shutdown`."
   ]
  },
  {
   "cell_type": "code",
   "execution_count": 28,
   "id": "ec857b53",
   "metadata": {},
   "outputs": [
    {
     "data": {
      "text/plain": [
       "<Response [200]>"
      ]
     },
     "execution_count": 28,
     "metadata": {},
     "output_type": "execute_result"
    }
   ],
   "source": [
    "session.post(url + 'api/shutdown')"
   ]
  },
  {
   "cell_type": "markdown",
   "id": "584e343b",
   "metadata": {},
   "source": [
    "... and confirm that it's been shutdown correctly:"
   ]
  },
  {
   "cell_type": "code",
   "execution_count": 29,
   "id": "15534d8d",
   "metadata": {},
   "outputs": [
    {
     "name": "stdout",
     "output_type": "stream",
     "text": [
      "Server has been successfully shutdown!\n"
     ]
    }
   ],
   "source": [
    "try: session.get(url)\n",
    "except requests.exceptions.ConnectionError: print('Server has been successfully shutdown!')"
   ]
  },
  {
   "cell_type": "markdown",
   "id": "f0eddd78",
   "metadata": {},
   "source": [
    "All done!"
   ]
  },
  {
   "cell_type": "markdown",
   "id": "86cfd1cb",
   "metadata": {},
   "source": [
    "## Next steps"
   ]
  },
  {
   "cell_type": "markdown",
   "id": "16426622",
   "metadata": {},
   "source": [
    "Congrats! If you followed all the way to the end, you've now created a barebones Jupyter frontend. Here are some directions you might consider to take this further:\n",
    "\n",
    "- How would you implement other notebook features like code completion?\n",
    "- How does Jupyter's trust system work?\n",
    "- How would you implement Jupyter's checkpointing system?\n",
    "- Can you redo this in another language?\n",
    "- How would you design and build your own UI on top of this?"
   ]
  },
  {
   "cell_type": "markdown",
   "id": "23dc4a92",
   "metadata": {},
   "source": [
    "As for me, my next step is to start translating these into Swift as part of the native macOS Jupyter frontend I'm building."
   ]
  },
  {
   "cell_type": "markdown",
   "id": "28ffd30c",
   "metadata": {},
   "source": [
    "Let me know on Twitter or via email if you enjoyed this or if you have any questions!"
   ]
  }
 ],
 "metadata": {
  "kernelspec": {
   "display_name": "Python 3 (ipykernel)",
   "language": "python",
   "name": "python3"
  },
  "language_info": {
   "codemirror_mode": {
    "name": "ipython",
    "version": 3
   },
   "file_extension": ".py",
   "mimetype": "text/x-python",
   "name": "python",
   "nbconvert_exporter": "python",
   "pygments_lexer": "ipython3",
   "version": "3.9.16"
  },
  "toc": {
   "base_numbering": 1,
   "nav_menu": {},
   "number_sections": false,
   "sideBar": true,
   "skip_h1_title": false,
   "title_cell": "Table of Contents",
   "title_sidebar": "Contents",
   "toc_cell": false,
   "toc_position": {
    "height": "calc(100% - 180px)",
    "left": "10px",
    "top": "150px",
    "width": "384px"
   },
   "toc_section_display": true,
   "toc_window_display": false
  }
 },
 "nbformat": 4,
 "nbformat_minor": 5
}
