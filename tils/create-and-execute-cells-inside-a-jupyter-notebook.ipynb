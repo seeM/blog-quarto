{
 "cells": [
  {
   "cell_type": "raw",
   "id": "16e58173-f88d-41b7-b215-d8e9e651b25e",
   "metadata": {},
   "source": [
    "---\n",
    "title: Create and execute cells inside a Jupyter notebook\n",
    "date: 2022-06-22\n",
    "categories: [notebooks]\n",
    "---"
   ]
  },
  {
   "cell_type": "markdown",
   "id": "12880bef",
   "metadata": {},
   "source": [
    "I've been thinking a lot about unique Jupyter notebook interactions. A pattern that keeps coming up in my head is to click on the output of one cell to create a new cell below it. For example, `ls()` could output file and directory widgets for the current directory. Clicking on a directory widget, say `foo`, could create a code cell below with code `ls(foo)`, to interactively browse through files.\n",
    "\n",
    "::: {.callout-note}\n",
    "## Update (2022-06-23)\n",
    "I've created a working demo of [point-and-click directory navigation](point-and-click-directory-navigation-inside-a-jupyter-notebook.ipynb) using this pattern!.\n",
    ":::"
   ]
  },
  {
   "cell_type": "markdown",
   "id": "631ed945",
   "metadata": {},
   "source": [
    "I found [this amazing gist](https://nbviewer.org/gist/fperez/0fb77c5faea8996208a7/NewCodeCellWidget.ipynb) by [Fernando Perez](http://fperez.org/) (originally by Jonathan Frederic, see the gist for more links) which enables this pattern! It turns out that IPython makes this pretty straightforward. You directly execute JavaScript code against the `IPython` API that creates a code cell, sets the text of the cell (which must be base64 encoded), then executes it:"
   ]
  },
  {
   "cell_type": "code",
   "execution_count": null,
   "id": "121f7c34",
   "metadata": {
    "vscode": {
     "languageId": "python"
    }
   },
   "outputs": [
    {
     "data": {
      "application/javascript": "\n        var code = IPython.notebook.insert_cell_below('code');\n        code.set_text(atob(\"cHJpbnQoJ0hlbGxvIHdvcmxkIScp\"));\n        code.execute();\n    ",
      "text/plain": [
       "<IPython.core.display.Javascript object>"
      ]
     },
     "metadata": {},
     "output_type": "display_data"
    }
   ],
   "source": [
    "import base64\n",
    "from IPython.display import Javascript\n",
    "from ipywidgets import Button\n",
    "\n",
    "def create_code_cell():\n",
    "    code = \"print('Hello world!')\"\n",
    "    encoded_code = base64.b64encode(code.encode()).decode()\n",
    "    display(Javascript(f'''\n",
    "        var code = IPython.notebook.insert_cell_below('code');\n",
    "        code.set_text(atob(\"{encoded_code}\"));\n",
    "        code.execute();\n",
    "    '''))\n",
    "\n",
    "create_code_cell()"
   ]
  },
  {
   "cell_type": "code",
   "execution_count": null,
   "id": "be26462b",
   "metadata": {
    "vscode": {
     "languageId": "python"
    }
   },
   "outputs": [
    {
     "name": "stdout",
     "output_type": "stream",
     "text": [
      "Hello world!\n"
     ]
    }
   ],
   "source": [
    "print('Hello world!')"
   ]
  },
  {
   "cell_type": "markdown",
   "id": "4f19fb3e",
   "metadata": {},
   "source": [
    "I didn't know that there was a neat JavaScript API inside Jupyter notebooks, but it does make sense that it exists. It's also really useful to browse the API using your browser's console via auto-complete on the `IPython` object:"
   ]
  },
  {
   "cell_type": "markdown",
   "id": "42025f46",
   "metadata": {},
   "source": [
    "![](images/ipython-javascript-api.png){width=\"500\" alt=\"Browser console with code: IPython.notebook\" fig-align=\"center\" .rounded .border .shadow-sm .preview-image}"
   ]
  }
 ],
 "metadata": {
  "kernelspec": {
   "display_name": "Python 3 (ipykernel)",
   "language": "python",
   "name": "python3"
  },
  "language_info": {
   "name": "raw"
  }
 },
 "nbformat": 4,
 "nbformat_minor": 5
}
