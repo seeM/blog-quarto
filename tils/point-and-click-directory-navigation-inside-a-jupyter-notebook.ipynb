{
 "cells": [
  {
   "cell_type": "raw",
   "id": "e0ed1813-e57b-425f-8d3b-288344d817fa",
   "metadata": {},
   "source": [
    "---\n",
    "title: Point and click directory navigation inside a Jupyter notebook\n",
    "date: 2022-06-23\n",
    "categories: [notebooks]\n",
    "---"
   ]
  },
  {
   "cell_type": "markdown",
   "id": "c565a8d2",
   "metadata": {},
   "source": [
    "Here's a tiny demo of a point-and-click navigation interface with rich output powered by Jupyter notebooks and ipywidgets! I originally mentioned the idea in [a previous TIL](create-and-execute-cells-inside-a-jupyter-notebook.ipynb)."
   ]
  },
  {
   "cell_type": "markdown",
   "id": "ba751c23",
   "metadata": {},
   "source": [
    "## TL;DR"
   ]
  },
  {
   "cell_type": "markdown",
   "id": "18ee9f3c",
   "metadata": {},
   "source": [
    "If all you need is a copy-pastable code snippet, here you go. Read on for a more in-depth description."
   ]
  },
  {
   "cell_type": "code",
   "execution_count": null,
   "id": "d1642696",
   "metadata": {
    "vscode": {
     "languageId": "python"
    }
   },
   "outputs": [],
   "source": [
    "from base64 import b64encode\n",
    "from functools import partial\n",
    "from IPython.display import Javascript, display\n",
    "from ipywidgets import Box, Button, Layout\n",
    "from pathlib import Path\n",
    "\n",
    "def create_code_cell(code):\n",
    "    encoded_code = b64encode(code.encode()).decode()\n",
    "    display(Javascript(f\"\"\"\n",
    "        var code = IPython.notebook.insert_cell_below('code');\n",
    "        code.set_text(atob(\"{encoded_code}\"));\n",
    "        code.execute();\n",
    "        code.focus_cell()\"\"\"))\n",
    "\n",
    "def on_click_dir(path, button): create_code_cell(f\"ls('{path}')\")\n",
    "def on_click_file(path, button): create_code_cell(f\"Path('{path}')\")\n",
    "\n",
    "def ls(root=Path()):\n",
    "    if isinstance(root, str): root = Path(root).expanduser()\n",
    "    paths = sorted(root.iterdir())\n",
    "    if not paths: return\n",
    "    button_layout = Layout(width='fit-content')\n",
    "    buttons = []\n",
    "    for path in paths:\n",
    "        button = Button(description=str(path.relative_to(root)), layout=button_layout)\n",
    "        button.on_click(partial(on_click_dir if path.is_dir() else on_click_file, path))\n",
    "        buttons.append(button)\n",
    "    box_layout = Layout(overflow='scroll hidden', height='500px', display='flex',\n",
    "                        flex_flow='column wrap', align_content='flex-start')\n",
    "    return Box(buttons, layout=box_layout)"
   ]
  },
  {
   "cell_type": "markdown",
   "id": "fb55c0bc",
   "metadata": {},
   "source": [
    "## Minimal implementation"
   ]
  },
  {
   "cell_type": "markdown",
   "id": "16a40451",
   "metadata": {},
   "source": [
    "We start by defining a function to create and execute a code cell below the focused cell (see [my previous TIL](create-and-execute-cells-inside-a-jupyter-notebook.ipynb) if you'd like more detail on this part):"
   ]
  },
  {
   "cell_type": "code",
   "execution_count": null,
   "id": "585a1a8a",
   "metadata": {
    "vscode": {
     "languageId": "python"
    }
   },
   "outputs": [],
   "source": [
    "def create_code_cell(code):\n",
    "    encoded_code = b64encode(code.encode()).decode()\n",
    "    display(Javascript(f\"\"\"\n",
    "        var code = IPython.notebook.insert_cell_below('code');\n",
    "        code.set_text(atob(\"{encoded_code}\"));\n",
    "        code.execute();\n",
    "        code.focus_cell()\n",
    "    \"\"\"))"
   ]
  },
  {
   "cell_type": "markdown",
   "id": "fd92c7c8",
   "metadata": {},
   "source": [
    "We're going to be using button widgets, which expect an on-click callback, so let's define those next. The callback is expected to be a function accepting a single argument, `button`, to which the button object itself is passed - although we won't be using it. We need to know the path that was clicked on as well, so we'll have to `partial` that in later:"
   ]
  },
  {
   "cell_type": "code",
   "execution_count": null,
   "id": "e57714b3",
   "metadata": {
    "vscode": {
     "languageId": "python"
    }
   },
   "outputs": [],
   "source": [
    "def on_click_dir(path, button): create_code_cell(f\"ls('{path}')\")\n",
    "def on_click_file(path, button): create_code_cell(f\"Path('{path}')\")"
   ]
  },
  {
   "cell_type": "markdown",
   "id": "1e8f5a88",
   "metadata": {},
   "source": [
    "Test if it works:"
   ]
  },
  {
   "cell_type": "code",
   "execution_count": null,
   "id": "5e70bd3b",
   "metadata": {
    "vscode": {
     "languageId": "python"
    }
   },
   "outputs": [
    {
     "data": {
      "application/javascript": "\n        var code = IPython.notebook.insert_cell_below('code');\n        code.set_text(atob(\"UGF0aCgncG9pbnQtYW5kLWNsaWNrLWRpcmVjdG9yeS1uYXZpZ2F0aW9uLWluc2lkZS1hLWp1cHl0ZXItbm90ZWJvb2suaXB5bmInKQ==\"));\n        code.execute();\n        code.focus_cell()\n    ",
      "text/plain": [
       "<IPython.core.display.Javascript object>"
      ]
     },
     "metadata": {},
     "output_type": "display_data"
    }
   ],
   "source": [
    "on_click_file(Path('point-and-click-directory-navigation-inside-a-jupyter-notebook.ipynb'), None)"
   ]
  },
  {
   "cell_type": "code",
   "execution_count": null,
   "id": "eb304102",
   "metadata": {
    "vscode": {
     "languageId": "python"
    }
   },
   "outputs": [
    {
     "data": {
      "text/plain": [
       "PosixPath('point-and-click-directory-navigation-inside-a-jupyter-notebook.ipynb')"
      ]
     },
     "execution_count": null,
     "metadata": {},
     "output_type": "execute_result"
    }
   ],
   "source": [
    "Path('point-and-click-directory-navigation-inside-a-jupyter-notebook.ipynb')"
   ]
  },
  {
   "cell_type": "markdown",
   "id": "40e6da98",
   "metadata": {},
   "source": [
    "Neat! The cell above this was created by calling `on_click_file`."
   ]
  },
  {
   "cell_type": "markdown",
   "id": "ce892505",
   "metadata": {},
   "source": [
    "Finally, we implement a straightforward minimal `ls` function using `Button` widgets for `Path`s, and wrapping those in a `VBox` widget:"
   ]
  },
  {
   "cell_type": "code",
   "execution_count": null,
   "id": "428247d4",
   "metadata": {
    "vscode": {
     "languageId": "python"
    }
   },
   "outputs": [],
   "source": [
    "from ipywidgets import VBox\n",
    "\n",
    "def ls(root=Path()):\n",
    "    if isinstance(root, str): root = Path(root).expanduser()\n",
    "    paths = sorted(root.iterdir())\n",
    "    if not paths: return\n",
    "    buttons = []\n",
    "    for path in paths:\n",
    "        button = Button(description=str(path))\n",
    "        button.on_click(partial(on_click_dir if path.is_dir() else on_click_file, path))\n",
    "        buttons.append(button)\n",
    "    return VBox(buttons)"
   ]
  },
  {
   "cell_type": "markdown",
   "id": "966aaf94",
   "metadata": {},
   "source": [
    "## Improved styling"
   ]
  },
  {
   "cell_type": "markdown",
   "id": "f0f7122b",
   "metadata": {},
   "source": [
    "I don't like how the implementation above is styled, so here is another with a few purely stylistic improvements:"
   ]
  },
  {
   "cell_type": "code",
   "execution_count": null,
   "id": "29a177c1",
   "metadata": {
    "vscode": {
     "languageId": "python"
    }
   },
   "outputs": [],
   "source": [
    "def ls(root=Path()):\n",
    "    if isinstance(root, str): root = Path(root).expanduser()\n",
    "    paths = sorted(root.iterdir())\n",
    "    if not paths: return\n",
    "    button_layout = Layout(width='fit-content')\n",
    "    buttons = []\n",
    "    for path in paths:\n",
    "        button = Button(description=str(path.relative_to(root)), layout=button_layout)\n",
    "        button.on_click(partial(on_click_dir if path.is_dir() else on_click_file, path))\n",
    "        buttons.append(button)\n",
    "    box_layout = Layout(overflow='scroll hidden', height='500px', display='flex',\n",
    "                        flex_flow='column wrap', align_content='flex-start')\n",
    "    return Box(buttons, layout=box_layout)"
   ]
  },
  {
   "cell_type": "code",
   "execution_count": null,
   "id": "2c1adb10",
   "metadata": {
    "vscode": {
     "languageId": "python"
    }
   },
   "outputs": [
    {
     "data": {
      "application/vnd.jupyter.widget-view+json": {
       "model_id": "169fb41e3a56421dba0169a52f8d35f4",
       "version_major": 2,
       "version_minor": 0
      },
      "text/plain": [
       "Box(children=(Button(description='.devcontainer.json', layout=Layout(width='fit-content'), style=ButtonStyle()…"
      ]
     },
     "metadata": {},
     "output_type": "display_data"
    }
   ],
   "source": [
    "ls('~/code/fastai')"
   ]
  },
  {
   "cell_type": "markdown",
   "id": "7e1c138a",
   "metadata": {},
   "source": [
    "Unfortunately, my current blog setup doesn't support widgets, but you should be able to run this locally."
   ]
  },
  {
   "cell_type": "markdown",
   "id": "90808ee5",
   "metadata": {},
   "source": [
    "If you pay close attention to the demo video, you'll notice that it's still styled slightly differently to what we've built here. Some styles can't be changed through ipywidget's `style` interface, so that was achieved by manually writing CSS with the `%%html` magic command followed by a `<style>...</style>` tag, and then assigning a class to the buttons and boxes using their `add_class` method. I also implemented a custom widget with a small `render` JavaScript function that resized the output grid until it fit the width of the screen."
   ]
  },
  {
   "cell_type": "markdown",
   "id": "79da9ac2",
   "metadata": {},
   "source": [
    "I'm really excited with how this turned out! And it was far simpler than I'd expected. I'll definitely be exploring the point-and-click navigation pattern more. I'm thinking about trying it out for exploring documentation about Python objects."
   ]
  }
 ],
 "metadata": {
  "kernelspec": {
   "display_name": "Python 3 (ipykernel)",
   "language": "python",
   "name": "python3"
  },
  "language_info": {
   "name": "raw"
  }
 },
 "nbformat": 4,
 "nbformat_minor": 5
}
